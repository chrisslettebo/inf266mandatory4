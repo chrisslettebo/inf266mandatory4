{
 "cells": [
  {
   "cell_type": "code",
   "execution_count": 3,
   "metadata": {},
   "outputs": [],
   "source": [
    "import gymnasium as gym\n",
    "from collections import defaultdict\n",
    "import skyscraper\n",
    "import numpy as np"
   ]
  },
  {
   "cell_type": "code",
   "execution_count": null,
   "metadata": {},
   "outputs": [],
   "source": []
  },
  {
   "cell_type": "code",
   "execution_count": 4,
   "metadata": {},
   "outputs": [],
   "source": [
    "# Create the environment\n",
    "env = gym.make(\"MountainCar-v0\", render_mode=\"human\")  # \"human\" for visualization\n",
    "\n",
    "\n",
    "def q_learning(env, alpha=0.1, gamma=0.9, epsilon=0.1, episodes=5000):\n",
    "    \"\"\"\n",
    "    Q-Learning Implementation with average reward tracking.\n",
    "    \"\"\"\n",
    "    Q = defaultdict(float)\n",
    "    policy = defaultdict(lambda: np.random.choice(env.action_space.n))\n",
    "    total_rewards = []\n",
    "\n",
    "    for episode in range(episodes):\n",
    "        observation, _ = env.reset()\n",
    "        state = tuple(observation['agent']['pos'])\n",
    "        total_reward = 0\n",
    "        done = False\n",
    "\n",
    "        while not done:\n",
    "            action = policy[state] if np.random.rand() > epsilon else np.random.choice(env.action_space.n)\n",
    "            next_obs, reward, done, _, _ = env.step(action)\n",
    "            next_state = tuple(next_obs['agent']['pos'])\n",
    "    \n",
    "            best_next_action = np.argmax([Q[(next_state, a)] for a in range(env.action_space.n)])\n",
    "            Q[(state, action)] += alpha * (reward + gamma * Q[(next_state, best_next_action)] - Q[(state, action)])\n",
    "\n",
    "            actions = [Q[(state, a)] for a in range(env.action_space.n)]\n",
    "            policy[state] = np.argmax(actions)\n",
    "\n",
    "            state = next_state\n",
    "            total_reward += reward\n",
    "\n",
    "        total_rewards.append(total_reward)\n",
    "\n",
    "        if episode % 100 == 0:\n",
    "            avg_reward = np.mean(total_rewards[-100:])\n",
    "            print(f\"Episode {episode}: Epsilon = {epsilon:.4f}, Avg Reward (last 100 episodes) = {avg_reward:.2f}\")\n",
    "\n",
    "    print(f\"\\n📊 Average Reward over all episodes: {np.mean(total_rewards):.2f}\")\n",
    "    return policy, Q"
   ]
  }
 ],
 "metadata": {
  "kernelspec": {
   "display_name": "inf266",
   "language": "python",
   "name": "python3"
  },
  "language_info": {
   "codemirror_mode": {
    "name": "ipython",
    "version": 3
   },
   "file_extension": ".py",
   "mimetype": "text/x-python",
   "name": "python",
   "nbconvert_exporter": "python",
   "pygments_lexer": "ipython3",
   "version": "3.11.11"
  }
 },
 "nbformat": 4,
 "nbformat_minor": 2
}
