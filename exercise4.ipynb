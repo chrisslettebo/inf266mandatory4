{
 "cells": [
  {
   "cell_type": "code",
   "execution_count": 1,
   "metadata": {},
   "outputs": [],
   "source": [
    "import gymnasium as gym\n",
    "from tqdm import tqdm\n",
    "import matplotlib.pyplot as plt\n",
    "import numpy as np\n",
    "from abc import ABC, abstractmethod\n",
    "import imageio\n",
    "import glob\n",
    "import pickle\n",
    "import IPython\n",
    "import os\n",
    "from typing import Tuple, List\n",
    "from collections import deque, namedtuple\n",
    "\n",
    "Experience = namedtuple('Experience', ['state', 'action', 'reward', 'next_state', 'done'])\n"
   ]
  },
  {
   "cell_type": "code",
   "execution_count": 2,
   "metadata": {},
   "outputs": [
    {
     "data": {
      "text/plain": [
       "42"
      ]
     },
     "execution_count": 2,
     "metadata": {},
     "output_type": "execute_result"
    }
   ],
   "source": [
    "env = gym.make('MountainCar-v0', max_episode_steps = 1000, render_mode=\"rgb_array\")\n",
    "env.action_space.seed(42)"
   ]
  },
  {
   "cell_type": "code",
   "execution_count": 3,
   "metadata": {},
   "outputs": [
    {
     "name": "stdout",
     "output_type": "stream",
     "text": [
      "Discrete(3)\n",
      "Box([-1.2  -0.07], [0.6  0.07], (2,), float32)\n",
      "[-0.43395966  0.        ]\n",
      "{}\n",
      "[-4.3362388e-01  3.3578029e-04] -1.0 False False {}\n"
     ]
    },
    {
     "name": "stderr",
     "output_type": "stream",
     "text": [
      "<frozen importlib._bootstrap>:488: RuntimeWarning: Your system is avx2 capable but pygame was not built with support for it. The performance of some of your blits could be adversely affected. Consider enabling compile time detection with environment variables like PYGAME_DETECT_AVX2=1 if you are compiling without cross compilation.\n"
     ]
    },
    {
     "name": "stdout",
     "output_type": "stream",
     "text": [
      "<class 'numpy.ndarray'>\n"
     ]
    },
    {
     "data": {
      "image/png": "[encoded data removed]",
      "text/plain": [
       "<Figure size 640x480 with 1 Axes>"
      ]
     },
     "metadata": {},
     "output_type": "display_data"
    }
   ],
   "source": [
    "print(env.action_space)\n",
    "print(env.observation_space)\n",
    "#obs : position, velocity\n",
    "obs, info = env.reset() # initial observation\n",
    "print(obs)  \n",
    "print(info)  \n",
    "# take a step\n",
    "action = 2  # Push right\n",
    "obs, reward, terminated, truncated, info = env.step(action)\n",
    "print(obs, reward, terminated, truncated, info)\n",
    "#rendering\n",
    "frame = env.render()\n",
    "print(type(frame))  # <class 'numpy.ndarray'>\n",
    "plt.imshow(frame)\n",
    "plt.show()\n",
    "\n"
   ]
  },
  {
   "cell_type": "code",
   "execution_count": 4,
   "metadata": {},
   "outputs": [],
   "source": [
    "# state space ranges from -1.2 to 0.6 for position and -0.07 to 0.07 for velocity\n",
    "# action space is discrete with 3 possible actions\n",
    "# reward is -1 for each time step until the goal position of 0.5 is reached"
   ]
  },
  {
   "cell_type": "code",
   "execution_count": 5,
   "metadata": {},
   "outputs": [],
   "source": [
    "def discretize_state(state, agent):\n",
    "    position, velocity = state\n",
    "    \n",
    "    # Create bins dynamically based on agent's n_bins\n",
    "    position_bins = np.linspace(-1.2, 0.6, agent.n_bins_position)\n",
    "    velocity_bins = np.linspace(-0.07, 0.07, agent.n_bins_velocity)\n",
    "\n",
    "    position_index = np.digitize(position, position_bins) - 1\n",
    "    velocity_index = np.digitize(velocity, velocity_bins) - 1\n",
    "\n",
    "    return (position_index, velocity_index)\n"
   ]
  },
  {
   "cell_type": "code",
   "execution_count": 6,
   "metadata": {},
   "outputs": [],
   "source": [
    "# initialize Q table\n",
    "def initialize_q(n_bins_position, n_bins_velocity, n_actions):\n",
    "    n_actions = env.action_space.n\n",
    "    n_states = (n_bins_position, n_bins_velocity)\n",
    "    Q = np.zeros(n_states + (n_actions,))\n",
    "    return Q"
   ]
  },
  {
   "cell_type": "code",
   "execution_count": 7,
   "metadata": {},
   "outputs": [],
   "source": [
    "# define all the agents\n",
    "class BaseAgent(ABC):\n",
    "    def __init__(self, action_dim:int, epsilon: float, gamma: float = 1.0,n_bins_position:int=20,n_bins_velocity:int=20):\n",
    "        self.action_dim = action_dim\n",
    "        self.epsilon = self.initial_epsilon = epsilon\n",
    "        self.gamma = gamma\n",
    "        self.n_bins_position = n_bins_position\n",
    "        self.n_bins_velocity = n_bins_velocity\n",
    "        self.Q = np.zeros((self.n_bins_position, self.n_bins_velocity, self.action_dim))  \n",
    "        \n",
    "\n",
    "    @abstractmethod\n",
    "    def select_action(self, state) -> int:\n",
    "        \"\"\"Select an action given the state\"\"\"\n",
    "        pass\n",
    "\n",
    "    @abstractmethod\n",
    "    def learn(self, *args, **kwargs) -> None:\n",
    "        \"\"\"Update Q-values based on learning method\"\"\"\n",
    "        pass\n",
    "    \n",
    "\n",
    "    def select_action(self, state) -> int:\n",
    "        if np.random.uniform() < self.epsilon:\n",
    "            return np.random.choice(self.action_dim)\n",
    "        else:\n",
    "            return self.greedy_action(state)\n",
    "\n",
    "    def greedy_action(self, state) -> int:\n",
    "        action_values = self.Q[state[0], state[1], :]\n",
    "        return np.argmax(action_values)  # Choose the best action\n",
    "\n",
    "    def reset(self) -> None:\n",
    "        self.Q = np.zeros((31, 100, self.action_dim))  # Reset Q-table\n",
    "        self.epsilon = self.initial_epsilon\n",
    "\n",
    "    def __getstate__(self):\n",
    "        return self.__dict__.copy()\n",
    "\n",
    "    def __setstate__(self, state):\n",
    "        self.__dict__.update(state)\n",
    "\n",
    "\n",
    "class TD0Agent(BaseAgent):  \n",
    "    def __init__(self, action_dim, epsilon, alpha, gamma=1, offpolicy=False, n_bins_position=20, n_bins_velocity=20):\n",
    "        super().__init__(action_dim, epsilon, gamma, n_bins_position, n_bins_velocity)\n",
    "        self.offpolicy = offpolicy\n",
    "        self.alpha = self.initial_alpha = alpha\n",
    "\n",
    "    def reset(self):\n",
    "        super().reset()\n",
    "        self.alpha = self.initial_alpha\n",
    "\n",
    "        \n",
    "    #def learn(self, experience:Experience)->None:\n",
    "    #    state, action, reward, next_state, done = experience\n",
    "    #    if self.offpolicy:\n",
    "    #        next_action = self.greedy_action(next_state) # q learning\n",
    "    #    else:\n",
    "    #        next_action = self.select_action(next_state) # sarsa\n",
    "\n",
    "    #    next_max = self.Q[next_state[0],next_state[1], next_action] \n",
    "    \n",
    "    #    self.Q[state][action] = self.Q[state][action] + self.alpha*(reward+  self.gamma*next_max - self.Q[state][action] )\n",
    "    def learn(self, experience: Experience) -> None:\n",
    "        state, action, reward, next_state, done = experience\n",
    "        if self.offpolicy:\n",
    "            next_action = self.greedy_action(next_state)  # Q-learning\n",
    "        else:\n",
    "            next_action = self.select_action(next_state)  # SARSA\n",
    "\n",
    "        next_max = self.Q[next_state[0], next_state[1], next_action] \n",
    "\n",
    "        # Fix: Use correct Q-table indexing\n",
    "        self.Q[state[0], state[1], action] += self.alpha * (\n",
    "            reward + self.gamma * next_max - self.Q[state[0], state[1], action]\n",
    "        )\n",
    "\n",
    "\n",
    "\n",
    "class NstepSarsaAgent(BaseAgent):\n",
    "    def __init__(self, action_dim, epsilon, alpha, gamma=1, n=3, n_bins_position=20, n_bins_velocity=20):\n",
    "        super().__init__(action_dim, epsilon, gamma, n_bins_position, n_bins_velocity)\n",
    "        self.alpha = self.initial_alpha = alpha\n",
    "        self.n = n  # Number of steps\n",
    "        self.memory = deque(maxlen=n+1)  # Store (state, action, reward)\n",
    "\n",
    "    def reset(self):\n",
    "        super().reset()\n",
    "        self.alpha = self.initial_alpha\n",
    "        self.memory.clear()\n",
    "\n",
    "    def learn(self, experience:Experience):\n",
    "        \"\"\"\n",
    "        Stores the current experience and updates Q-values when enough steps are collected.\n",
    "        \"\"\"\n",
    "        _, _, _, _, done = experience\n",
    "        self.memory.append(experience)\n",
    "\n",
    "       \n",
    "\n",
    "        if len(self.memory) < (self.n+1) and not done:  # if not reach terminal state: wait until enough steps are collected'\n",
    "            return\n",
    "\n",
    "        experiences = self.memory.copy()\n",
    "        while len(experiences) > 0:\n",
    "            G = 0 # Return\n",
    "            for i, (_, _, r, _,_) in enumerate(experiences):\n",
    "                G += (self.gamma ** (i+1)) * r  # Compute n-step return\n",
    "           \n",
    "            last_experience = experiences[-1]  # Last step\n",
    "            next_state = last_experience.next_state\n",
    "            next_action = self.select_action(next_state)\n",
    "            Q_n = self.Q[next_state[0], next_state[1], next_action]\n",
    "            G += (self.gamma ** self.n) * Q_n\n",
    "           \n",
    "            state, action, _, _, _ = experiences[0]\n",
    "            td_error = G - self.Q[state[0], state[1], action] # Temporal difference error r_1*gamma^0 + r_2*gamma^1 + ... + r_n*gamma^(n-1) + Q(S_n, A_n) - Q(S_0, A_0)\n",
    "            self.Q[state[0], state[1], action] += self.alpha * td_error\n",
    "            experiences.popleft()\n",
    "        \n",
    "        if len(self.memory) >= self.n + 1:\n",
    "            self.memory.popleft()\n",
    "        if done:\n",
    "            self.memory.clear()          "
   ]
  },
  {
   "cell_type": "code",
   "execution_count": 8,
   "metadata": {},
   "outputs": [],
   "source": [
    "# Define the training loop\n",
    "def train_agent(agent, env, total_episodes=10000, decay_fn=None):\n",
    "    \"\"\"\n",
    "    Trains an agent (either MC or TD0) in MountainCar-v0.\n",
    "    \"\"\"\n",
    "    time_outs = 0\n",
    "    env.action_space.seed(42)\n",
    "\n",
    "    with tqdm(total=total_episodes, desc=\"Training Progress\") as pbar:\n",
    "        for episode in range(total_episodes):\n",
    "            state, _ = env.reset()\n",
    "            state = discretize_state(state, agent)  # Ensure it's discrete\n",
    "\n",
    "            done = False\n",
    "            step = 0\n",
    "            running_reward = 0\n",
    "\n",
    "            while not done:\n",
    "                step += 1\n",
    "                action = agent.select_action(state)\n",
    "\n",
    "                # Take action\n",
    "                next_state, reward, terminated, truncated, _ = env.step(action)\n",
    "                next_state = discretize_state(next_state,agent)\n",
    "                done = terminated or truncated\n",
    "\n",
    "                running_reward += reward\n",
    "                experience = Experience(state, action, reward, next_state, done)\n",
    "                agent.learn(experience)\n",
    "\n",
    "                state = next_state\n",
    "\n",
    "            # Apply decay to epsilon & alpha\n",
    "            if decay_fn:\n",
    "            #    agent.epsilon = decay_fn(episode, agent.initial_epsilon, total_episodes, A=0.5, B=0.2, C=0.001)\n",
    "            #    if isinstance(agent, (TD0Agent, NstepSarsaAgent)):\n",
    "            #        agent.alpha = decay_fn(episode, agent.initial_alpha, total_episodes, A=0.5, B=0.2, C=0.00001)\n",
    "                agent.epsilon = decay_fn(episode, agent.initial_epsilon, total_episodes)\n",
    "\n",
    "\n",
    "            if episode % 100 == 0:\n",
    "                state_check = (15, 10)  # Example state\n",
    "                print(f\"Q-values at {state_check}: {agent.Q[state_check]}\")\n",
    "                best_action = np.argmax(agent.Q[state_check])\n",
    "\n",
    "                print(f\"Preferred action at {state_check}: {best_action}\")  # Should become 2\n",
    "                action_counts = [0, 0, 0]  # Left, stay, right\n",
    "                for _ in range(100):\n",
    "                    test_state, _ = env.reset()\n",
    "                    test_state = discretize_state(test_state, agent)\n",
    "                    action = agent.greedy_action(test_state)\n",
    "                    action_counts[action] += 1\n",
    "                print(f\"Episode {episode} Action Distribution: {action_counts}\")\n",
    "\n",
    "            # Logging\n",
    "            pbar.set_postfix({\"steps\": step, \"epsilon\": agent.epsilon, \"Running Return\": running_reward})\n",
    "            pbar.update(1)\n",
    "\n",
    "\n",
    "\n",
    "def get_trajectory(agent:BaseAgent,env:gym.Env, filename:str):\n",
    "    print(\"Creating video...\")\n",
    "    video_folder = \"videos\"\n",
    "    if not os.path.exists(video_folder):\n",
    "        os.makedirs(video_folder)\n",
    "    trajectory = []\n",
    "    env = gym.wrappers.RecordVideo(env, video_folder=video_folder, name_prefix=filename)\n",
    "    observation, info = env.reset()\n",
    "    observation = discretize_state(observation,agent)\n",
    "\n",
    "\n",
    "    while True:\n",
    "        env.render()\n",
    "        state = discretize_state(observation,agent)\n",
    "        trajectory.append(state)\n",
    "        action = agent.greedy_action(state)\n",
    "\n",
    "        observation, reward, terminated, truncated, info = env.step(action)\n",
    "        observation = discretize_state(observation,agent)\n",
    "        if terminated or truncated:\n",
    "            env.render()\n",
    "            break\n",
    "    \n",
    "    state = discretize_state(observation,agent)\n",
    "    trajectory.append(state)\n",
    "    env.close()\n",
    "    print(\"Video saved.\")\n",
    "    video_files = sorted(\n",
    "        [f for f in os.listdir(video_folder) if f.endswith(\".mp4\") and f.startswith(filename)],\n",
    "        key=lambda f: os.path.getmtime(os.path.join(video_folder, f)),  # Sort by creation time\n",
    "        reverse=True\n",
    "    )\n",
    "    video_path = os.path.join(video_folder, video_files[0])\n",
    "    IPython.display.display(IPython.display.Video(video_path))\n",
    "    return trajectory\n",
    "\n",
    "\n",
    "\n",
    "def visualize_policy(agent, env, trajectory=None):\n",
    "    \"\"\"\n",
    "    Visualizes the learned policy of an agent in a given environment.\n",
    "\n",
    "    Parameters:\n",
    "    - agent: The trained RL agent with Q-values and greedy policy.\n",
    "    - env: The environment object, which should contain a MAP attribute and action mapping.\n",
    "    - trajectory: A list of visited (state_x, state_y) pairs, showing an example path (optional).\n",
    "    \"\"\"\n",
    "    fig, ax = plt.subplots(figsize=(20, 16), dpi=300)\n",
    "\n",
    "    # Display environment map\n",
    "    ax.imshow(env.unwrapped.MAP, cmap=\"gray\")\n",
    "\n",
    "    # Draw finish line (goal area)\n",
    "    plt.plot(np.full(fill_value=99, shape=31), np.arange(31), color=\"#32CD32\", linewidth=10)\n",
    "\n",
    "    # Print max Q-value for a sample state\n",
    "    print(f\"Max Q-value at (15,0): {np.max(agent.Q[15, 0, :])}\")\n",
    "\n",
    "    # If a trajectory is provided, plot the agent's path\n",
    "    if trajectory:\n",
    "        path_x = [x for _, x in trajectory]\n",
    "        path_y = [y for y, _ in trajectory]\n",
    "        ax.plot(path_x, path_y, color=\"blue\", linewidth=2)\n",
    "\n",
    "    # Draw policy arrows (greedy actions)\n",
    "    for i in range(31):\n",
    "        for j in range(99):\n",
    "            action = agent.greedy_action((i, j))  # Get best action\n",
    "            dy, dx = env.unwrapped.action_to_direction[action]  # Convert action to movement direction\n",
    "            ax.arrow(j - dx * 0.25, i - dy * 0.25, dx * 0.25, dy * 0.25, \n",
    "                     head_width=0.25, head_length=0.25, color=\"red\")\n",
    "\n",
    "    plt.title(\"Learned Policy Visualization\")\n",
    "    plt.show()\n"
   ]
  },
  {
   "cell_type": "code",
   "execution_count": 9,
   "metadata": {},
   "outputs": [],
   "source": [
    "def decay(time:int, start_value:float, n_episodes:int,A:float=0.8,B:float=0.3,C:float=0.2, lower_bound:float = 0.01):\n",
    "        standardized_time=(time-A*n_episodes)/(B*n_episodes)\n",
    "        csh = np.cosh(np.exp(-standardized_time))\n",
    "        epsilon=1.1-(1/csh+(time*C/n_episodes))\n",
    "        return max(epsilon*start_value, lower_bound)"
   ]
  },
  {
   "cell_type": "code",
   "execution_count": null,
   "metadata": {},
   "outputs": [],
   "source": [
    "\n"
   ]
  },
  {
   "cell_type": "code",
   "execution_count": 10,
   "metadata": {},
   "outputs": [],
   "source": [
    "# decay 2\n",
    "def decay_epsilon(episode, initial_epsilon=1.0, total_episodes=10000, min_epsilon=0.01):\n",
    "    return max(initial_epsilon * (0.999 ** episode), min_epsilon)\n",
    "\n"
   ]
  },
  {
   "cell_type": "markdown",
   "metadata": {},
   "source": [
    "# train 2\n",
    "# Define the training loop with suggested parameters from hælfi with seperate rendering environment\n",
    "env2 = gym.make('MountainCar-v0', max_episode_steps = 1000)\n",
    "env2.action_space.seed(42)\n",
    "def train(agent, env, total_episodes=10000):\n",
    "    \"\"\"\n",
    "    Trains an agent in MountainCar-v0 without rendering (to improve speed).\n",
    "    \"\"\"\n",
    "    env.action_space.seed(42)\n",
    "\n",
    "    with tqdm(total=total_episodes, desc=\"Training Progress\") as pbar:\n",
    "        for episode in range(total_episodes):\n",
    "            state, _ = env.reset()\n",
    "            state = discretize_state(state, agent)\n",
    "\n",
    "            done = False\n",
    "            step = 0\n",
    "            running_reward = 0\n",
    "\n",
    "            while not done:\n",
    "                step += 1\n",
    "                action = agent.select_action(state)\n",
    "                next_state, reward, terminated, truncated, _ = env.step(action)\n",
    "                next_state = discretize_state(next_state, agent)\n",
    "                done = terminated or truncated\n",
    "\n",
    "                # Store experience and update Q-table\n",
    "                experience = Experience(state, action, reward, next_state, done)\n",
    "                agent.learn(experience)\n",
    "                state = next_state\n",
    "\n",
    "            if episode % 1000 == 0:\n",
    "                state_check = (15, 10)  # Example state\n",
    "                best_action = np.argmax(agent.Q[state_check])\n",
    "                print(f\"Q-values at {state_check}: {agent.Q[state_check]}\")\n",
    "                print(f\"Preferred action at {state_check}: {best_action}\")  # Should become 2\n",
    "\n",
    "\n",
    "            # Decay epsilon\n",
    "            agent.epsilon = max(agent.epsilon * 0.995, 0.01)  # Ensure epsilon does not go below 0.01\n",
    "\n",
    "            # Logging progress\n",
    "            pbar.set_postfix({\"steps\": step, \"epsilon\": agent.epsilon, \"Running Return\": running_reward})\n",
    "            pbar.update(1)\n"
   ]
  },
  {
   "cell_type": "markdown",
   "metadata": {},
   "source": [
    "# Create Q-learning agent with suggested parameters\n",
    "agent_q = TD0Agent(\n",
    "    action_dim=3,          \n",
    "    epsilon=1.0,           # Start with full exploration\n",
    "    alpha=0.1,             # Learning rate\n",
    "    gamma=0.9,             # Slightly lower discount factor\n",
    "    offpolicy=True,        \n",
    "    n_bins_position=40,    \n",
    "    n_bins_velocity=40     \n",
    ")\n",
    "\n",
    "# Train the agent\n",
    "train(agent_q, env2, total_episodes=10000)\n"
   ]
  },
  {
   "cell_type": "markdown",
   "metadata": {},
   "source": [
    "# Create a separate environment for rendering\n",
    "render_env = gym.make(\"MountainCar-v0\", render_mode=\"rgb_array\")\n",
    "\n",
    "# Visualize the learned policy\n",
    "trajectory = get_trajectory(agent_q, render_env, \"trained_agent_render\")\n",
    "\n"
   ]
  },
  {
   "cell_type": "markdown",
   "metadata": {},
   "source": [
    "## 20 bins for position and velocity"
   ]
  },
  {
   "cell_type": "code",
   "execution_count": 11,
   "metadata": {},
   "outputs": [
    {
     "name": "stderr",
     "output_type": "stream",
     "text": [
      "Training Progress:   0%|          | 4/5000 [00:00<03:45, 22.18it/s, steps=1000, epsilon=0.996, Running Return=-1e+3]"
     ]
    },
    {
     "name": "stdout",
     "output_type": "stream",
     "text": [
      "Q-values at (15, 10): [-0.3 -0.3  0. ]\n",
      "Preferred action at (15, 10): 2\n",
      "Episode 0 Action Distribution: [22, 33, 45]\n"
     ]
    },
    {
     "name": "stderr",
     "output_type": "stream",
     "text": [
      "Training Progress:   2%|▏         | 104/5000 [00:05<04:15, 19.18it/s, steps=1000, epsilon=0.902, Running Return=-1e+3]"
     ]
    },
    {
     "name": "stdout",
     "output_type": "stream",
     "text": [
      "Q-values at (15, 10): [-5.59476202 -5.67526257 -5.79586072]\n",
      "Preferred action at (15, 10): 0\n",
      "Episode 100 Action Distribution: [57, 0, 43]\n"
     ]
    },
    {
     "name": "stderr",
     "output_type": "stream",
     "text": [
      "Training Progress:   4%|▍         | 203/5000 [00:10<04:05, 19.58it/s, steps=1000, epsilon=0.816, Running Return=-1e+3]"
     ]
    },
    {
     "name": "stdout",
     "output_type": "stream",
     "text": [
      "Q-values at (15, 10): [-6.26740595 -6.31233037 -6.28442595]\n",
      "Preferred action at (15, 10): 0\n",
      "Episode 200 Action Distribution: [24, 0, 76]\n"
     ]
    },
    {
     "name": "stderr",
     "output_type": "stream",
     "text": [
      "Training Progress:   6%|▌         | 305/5000 [00:15<03:26, 22.72it/s, steps=976, epsilon=0.738, Running Return=-976]  "
     ]
    },
    {
     "name": "stdout",
     "output_type": "stream",
     "text": [
      "Q-values at (15, 10): [-6.54639724 -6.53961702 -6.56109572]\n",
      "Preferred action at (15, 10): 1\n",
      "Episode 300 Action Distribution: [25, 0, 75]\n"
     ]
    },
    {
     "name": "stderr",
     "output_type": "stream",
     "text": [
      "Training Progress:   8%|▊         | 407/5000 [00:19<02:37, 29.21it/s, steps=514, epsilon=0.666, Running Return=-514]  "
     ]
    },
    {
     "name": "stdout",
     "output_type": "stream",
     "text": [
      "Q-values at (15, 10): [-6.61254479 -6.61676286 -6.63809598]\n",
      "Preferred action at (15, 10): 0\n",
      "Episode 400 Action Distribution: [62, 10, 28]\n"
     ]
    },
    {
     "name": "stderr",
     "output_type": "stream",
     "text": [
      "Training Progress:  10%|█         | 506/5000 [00:22<02:32, 29.56it/s, steps=352, epsilon=0.603, Running Return=-352]  "
     ]
    },
    {
     "name": "stdout",
     "output_type": "stream",
     "text": [
      "Q-values at (15, 10): [-6.64136297 -6.64705976 -6.64786157]\n",
      "Preferred action at (15, 10): 0\n",
      "Episode 500 Action Distribution: [86, 0, 14]\n"
     ]
    },
    {
     "name": "stderr",
     "output_type": "stream",
     "text": [
      "Training Progress:  12%|█▏        | 607/5000 [00:26<02:20, 31.34it/s, steps=338, epsilon=0.545, Running Return=-338]  "
     ]
    },
    {
     "name": "stdout",
     "output_type": "stream",
     "text": [
      "Q-values at (15, 10): [-6.65362801 -6.6544158  -6.65658407]\n",
      "Preferred action at (15, 10): 0\n",
      "Episode 600 Action Distribution: [64, 0, 36]\n"
     ]
    },
    {
     "name": "stderr",
     "output_type": "stream",
     "text": [
      "Training Progress:  14%|█▍        | 708/5000 [00:28<01:40, 42.71it/s, steps=646, epsilon=0.492, Running Return=-646]"
     ]
    },
    {
     "name": "stdout",
     "output_type": "stream",
     "text": [
      "Q-values at (15, 10): [-6.65945856 -6.65926825 -6.65922733]\n",
      "Preferred action at (15, 10): 2\n",
      "Episode 700 Action Distribution: [60, 0, 40]\n"
     ]
    },
    {
     "name": "stderr",
     "output_type": "stream",
     "text": [
      "Training Progress:  16%|█▌        | 811/5000 [00:30<01:15, 55.33it/s, steps=288, epsilon=0.444, Running Return=-288]"
     ]
    },
    {
     "name": "stdout",
     "output_type": "stream",
     "text": [
      "Q-values at (15, 10): [-6.65991705 -6.66248912 -6.66270436]\n",
      "Preferred action at (15, 10): 0\n",
      "Episode 800 Action Distribution: [56, 9, 35]\n"
     ]
    },
    {
     "name": "stderr",
     "output_type": "stream",
     "text": [
      "Training Progress:  18%|█▊        | 912/5000 [00:32<01:08, 59.62it/s, steps=252, epsilon=0.402, Running Return=-252]"
     ]
    },
    {
     "name": "stdout",
     "output_type": "stream",
     "text": [
      "Q-values at (15, 10): [-6.66360246 -6.66352394 -6.66371806]\n",
      "Preferred action at (15, 10): 1\n",
      "Episode 900 Action Distribution: [56, 0, 44]\n"
     ]
    },
    {
     "name": "stderr",
     "output_type": "stream",
     "text": [
      "Training Progress:  20%|██        | 1013/5000 [00:34<01:00, 66.03it/s, steps=350, epsilon=0.363, Running Return=-350]"
     ]
    },
    {
     "name": "stdout",
     "output_type": "stream",
     "text": [
      "Q-values at (15, 10): [-6.66367661 -6.66340711 -6.66366738]\n",
      "Preferred action at (15, 10): 1\n",
      "Episode 1000 Action Distribution: [57, 12, 31]\n"
     ]
    },
    {
     "name": "stderr",
     "output_type": "stream",
     "text": [
      "Training Progress:  22%|██▏       | 1113/5000 [00:35<00:58, 66.04it/s, steps=248, epsilon=0.328, Running Return=-248]"
     ]
    },
    {
     "name": "stdout",
     "output_type": "stream",
     "text": [
      "Q-values at (15, 10): [-6.6640754  -6.6638001  -6.66383092]\n",
      "Preferred action at (15, 10): 1\n",
      "Episode 1100 Action Distribution: [90, 0, 10]\n"
     ]
    },
    {
     "name": "stderr",
     "output_type": "stream",
     "text": [
      "Training Progress:  24%|██▍       | 1212/5000 [00:37<01:00, 62.21it/s, steps=274, epsilon=0.297, Running Return=-274]"
     ]
    },
    {
     "name": "stdout",
     "output_type": "stream",
     "text": [
      "Q-values at (15, 10): [-6.66469135 -6.66369319 -6.66278087]\n",
      "Preferred action at (15, 10): 2\n",
      "Episode 1200 Action Distribution: [89, 0, 11]\n"
     ]
    },
    {
     "name": "stderr",
     "output_type": "stream",
     "text": [
      "Training Progress:  26%|██▌       | 1311/5000 [00:38<00:57, 64.06it/s, steps=269, epsilon=0.269, Running Return=-269]"
     ]
    },
    {
     "name": "stdout",
     "output_type": "stream",
     "text": [
      "Q-values at (15, 10): [-6.66471685 -6.66466022 -6.66468661]\n",
      "Preferred action at (15, 10): 1\n",
      "Episode 1300 Action Distribution: [58, 0, 42]\n"
     ]
    },
    {
     "name": "stderr",
     "output_type": "stream",
     "text": [
      "Training Progress:  28%|██▊       | 1413/5000 [00:40<00:53, 67.63it/s, steps=732, epsilon=0.243, Running Return=-732]"
     ]
    },
    {
     "name": "stdout",
     "output_type": "stream",
     "text": [
      "Q-values at (15, 10): [-6.66449521 -6.66538647 -6.66526881]\n",
      "Preferred action at (15, 10): 0\n",
      "Episode 1400 Action Distribution: [58, 0, 42]\n"
     ]
    },
    {
     "name": "stderr",
     "output_type": "stream",
     "text": [
      "Training Progress:  30%|███       | 1515/5000 [00:41<00:42, 81.69it/s, steps=294, epsilon=0.22, Running Return=-294] "
     ]
    },
    {
     "name": "stdout",
     "output_type": "stream",
     "text": [
      "Q-values at (15, 10): [-6.66507933 -6.6655402  -6.66557579]\n",
      "Preferred action at (15, 10): 0\n",
      "Episode 1500 Action Distribution: [66, 0, 34]\n"
     ]
    },
    {
     "name": "stderr",
     "output_type": "stream",
     "text": [
      "Training Progress:  32%|███▏      | 1611/5000 [00:43<00:51, 66.07it/s, steps=368, epsilon=0.2, Running Return=-368]  "
     ]
    },
    {
     "name": "stdout",
     "output_type": "stream",
     "text": [
      "Q-values at (15, 10): [-6.66558417 -6.66571856 -6.66571997]\n",
      "Preferred action at (15, 10): 0\n",
      "Episode 1600 Action Distribution: [90, 0, 10]\n"
     ]
    },
    {
     "name": "stderr",
     "output_type": "stream",
     "text": [
      "Training Progress:  34%|███▍      | 1708/5000 [00:44<00:53, 62.11it/s, steps=1000, epsilon=0.181, Running Return=-1e+3]"
     ]
    },
    {
     "name": "stdout",
     "output_type": "stream",
     "text": [
      "Q-values at (15, 10): [-6.6660513  -6.66612198 -6.66608585]\n",
      "Preferred action at (15, 10): 0\n",
      "Episode 1700 Action Distribution: [53, 0, 47]\n"
     ]
    },
    {
     "name": "stderr",
     "output_type": "stream",
     "text": [
      "Training Progress:  36%|███▋      | 1813/5000 [00:46<00:50, 63.15it/s, steps=312, epsilon=0.163, Running Return=-312]  "
     ]
    },
    {
     "name": "stdout",
     "output_type": "stream",
     "text": [
      "Q-values at (15, 10): [-6.66592136 -6.66596042 -6.66607643]\n",
      "Preferred action at (15, 10): 0\n",
      "Episode 1800 Action Distribution: [53, 16, 31]\n"
     ]
    },
    {
     "name": "stderr",
     "output_type": "stream",
     "text": [
      "Training Progress:  38%|███▊      | 1916/5000 [00:47<00:39, 77.32it/s, steps=322, epsilon=0.147, Running Return=-322]"
     ]
    },
    {
     "name": "stdout",
     "output_type": "stream",
     "text": [
      "Q-values at (15, 10): [-6.66614726 -6.66626644 -6.6662476 ]\n",
      "Preferred action at (15, 10): 0\n",
      "Episode 1900 Action Distribution: [91, 0, 9]\n"
     ]
    },
    {
     "name": "stderr",
     "output_type": "stream",
     "text": [
      "Training Progress:  40%|████      | 2015/5000 [00:49<00:41, 71.43it/s, steps=226, epsilon=0.133, Running Return=-226]"
     ]
    },
    {
     "name": "stdout",
     "output_type": "stream",
     "text": [
      "Q-values at (15, 10): [-6.66622878 -6.66622805 -6.6662376 ]\n",
      "Preferred action at (15, 10): 1\n",
      "Episode 2000 Action Distribution: [57, 0, 43]\n"
     ]
    },
    {
     "name": "stderr",
     "output_type": "stream",
     "text": [
      "Training Progress:  42%|████▏     | 2113/5000 [00:50<00:39, 73.03it/s, steps=453, epsilon=0.121, Running Return=-453]"
     ]
    },
    {
     "name": "stdout",
     "output_type": "stream",
     "text": [
      "Q-values at (15, 10): [-6.66622124 -6.66635092 -6.66633968]\n",
      "Preferred action at (15, 10): 0\n",
      "Episode 2100 Action Distribution: [61, 0, 39]\n"
     ]
    },
    {
     "name": "stderr",
     "output_type": "stream",
     "text": [
      "Training Progress:  44%|████▍     | 2217/5000 [00:51<00:34, 81.15it/s, steps=241, epsilon=0.109, Running Return=-241]"
     ]
    },
    {
     "name": "stdout",
     "output_type": "stream",
     "text": [
      "Q-values at (15, 10): [-6.66638586 -6.66639337 -6.66639992]\n",
      "Preferred action at (15, 10): 0\n",
      "Episode 2200 Action Distribution: [62, 0, 38]\n"
     ]
    },
    {
     "name": "stderr",
     "output_type": "stream",
     "text": [
      "Training Progress:  46%|████▋     | 2317/5000 [00:52<00:28, 93.27it/s, steps=228, epsilon=0.0985, Running Return=-228]"
     ]
    },
    {
     "name": "stdout",
     "output_type": "stream",
     "text": [
      "Q-values at (15, 10): [-6.66640157 -6.66641786 -6.66639992]\n",
      "Preferred action at (15, 10): 2\n",
      "Episode 2300 Action Distribution: [66, 0, 34]\n"
     ]
    },
    {
     "name": "stderr",
     "output_type": "stream",
     "text": [
      "Training Progress:  48%|████▊     | 2416/5000 [00:54<00:30, 85.95it/s, steps=188, epsilon=0.0892, Running Return=-188]"
     ]
    },
    {
     "name": "stdout",
     "output_type": "stream",
     "text": [
      "Q-values at (15, 10): [-6.66647772 -6.66647219 -6.66646649]\n",
      "Preferred action at (15, 10): 2\n",
      "Episode 2400 Action Distribution: [60, 0, 40]\n"
     ]
    },
    {
     "name": "stderr",
     "output_type": "stream",
     "text": [
      "Training Progress:  50%|█████     | 2516/5000 [00:55<00:32, 76.11it/s, steps=163, epsilon=0.0808, Running Return=-163]  "
     ]
    },
    {
     "name": "stdout",
     "output_type": "stream",
     "text": [
      "Q-values at (15, 10): [-6.66647772 -6.66639355 -6.66648203]\n",
      "Preferred action at (15, 10): 1\n",
      "Episode 2500 Action Distribution: [61, 0, 39]\n"
     ]
    },
    {
     "name": "stderr",
     "output_type": "stream",
     "text": [
      "Training Progress:  52%|█████▏    | 2617/5000 [00:56<00:24, 98.03it/s, steps=251, epsilon=0.0729, Running Return=-251] "
     ]
    },
    {
     "name": "stdout",
     "output_type": "stream",
     "text": [
      "Q-values at (15, 10): [-6.66651119 -6.66651414 -6.66650507]\n",
      "Preferred action at (15, 10): 2\n",
      "Episode 2600 Action Distribution: [30, 35, 35]\n"
     ]
    },
    {
     "name": "stderr",
     "output_type": "stream",
     "text": [
      "Training Progress:  54%|█████▍    | 2719/5000 [00:57<00:35, 63.95it/s, steps=254, epsilon=0.0659, Running Return=-254]   "
     ]
    },
    {
     "name": "stdout",
     "output_type": "stream",
     "text": [
      "Q-values at (15, 10): [-6.66646766 -6.66651414 -6.6665149 ]\n",
      "Preferred action at (15, 10): 0\n",
      "Episode 2700 Action Distribution: [53, 11, 36]\n"
     ]
    },
    {
     "name": "stderr",
     "output_type": "stream",
     "text": [
      "Training Progress:  56%|█████▋    | 2814/5000 [00:59<00:29, 75.29it/s, steps=371, epsilon=0.0599, Running Return=-371]  "
     ]
    },
    {
     "name": "stdout",
     "output_type": "stream",
     "text": [
      "Q-values at (15, 10): [-6.66620783 -6.66651414 -6.66651436]\n",
      "Preferred action at (15, 10): 0\n",
      "Episode 2800 Action Distribution: [66, 0, 34]\n"
     ]
    },
    {
     "name": "stderr",
     "output_type": "stream",
     "text": [
      "Training Progress:  58%|█████▊    | 2918/5000 [01:00<00:23, 88.64it/s, steps=181, epsilon=0.054, Running Return=-181] "
     ]
    },
    {
     "name": "stdout",
     "output_type": "stream",
     "text": [
      "Q-values at (15, 10): [-6.66649586 -6.66651092 -6.66650964]\n",
      "Preferred action at (15, 10): 0\n",
      "Episode 2900 Action Distribution: [54, 9, 37]\n"
     ]
    },
    {
     "name": "stderr",
     "output_type": "stream",
     "text": [
      "Training Progress:  60%|██████    | 3019/5000 [01:01<00:20, 95.11it/s, steps=169, epsilon=0.0488, Running Return=-169]"
     ]
    },
    {
     "name": "stdout",
     "output_type": "stream",
     "text": [
      "Q-values at (15, 10): [-6.6664596  -6.66651092 -6.66650964]\n",
      "Preferred action at (15, 10): 0\n",
      "Episode 3000 Action Distribution: [18, 0, 82]\n"
     ]
    },
    {
     "name": "stderr",
     "output_type": "stream",
     "text": [
      "Training Progress:  62%|██████▏   | 3121/5000 [01:02<00:18, 101.90it/s, steps=153, epsilon=0.044, Running Return=-153] "
     ]
    },
    {
     "name": "stdout",
     "output_type": "stream",
     "text": [
      "Q-values at (15, 10): [-6.66652163 -6.66654142 -6.66653706]\n",
      "Preferred action at (15, 10): 0\n",
      "Episode 3100 Action Distribution: [92, 0, 8]\n"
     ]
    },
    {
     "name": "stderr",
     "output_type": "stream",
     "text": [
      "Training Progress:  64%|██████▍   | 3220/5000 [01:03<00:18, 96.48it/s, steps=269, epsilon=0.0399, Running Return=-269] "
     ]
    },
    {
     "name": "stdout",
     "output_type": "stream",
     "text": [
      "Q-values at (15, 10): [-6.66655654 -6.66656145 -6.66656471]\n",
      "Preferred action at (15, 10): 0\n",
      "Episode 3200 Action Distribution: [30, 37, 33]\n"
     ]
    },
    {
     "name": "stderr",
     "output_type": "stream",
     "text": [
      "Training Progress:  66%|██████▋   | 3322/5000 [01:04<00:15, 107.57it/s, steps=218, epsilon=0.036, Running Return=-218] "
     ]
    },
    {
     "name": "stdout",
     "output_type": "stream",
     "text": [
      "Q-values at (15, 10): [-6.66650448 -6.66656165 -6.66655817]\n",
      "Preferred action at (15, 10): 0\n",
      "Episode 3300 Action Distribution: [92, 0, 8]\n"
     ]
    },
    {
     "name": "stderr",
     "output_type": "stream",
     "text": [
      "Training Progress:  68%|██████▊   | 3414/5000 [01:05<00:19, 81.30it/s, steps=530, epsilon=0.0329, Running Return=-530] "
     ]
    },
    {
     "name": "stdout",
     "output_type": "stream",
     "text": [
      "Q-values at (15, 10): [-6.66650966 -6.66656165 -6.66655817]\n",
      "Preferred action at (15, 10): 0\n",
      "Episode 3400 Action Distribution: [29, 28, 43]\n"
     ]
    },
    {
     "name": "stderr",
     "output_type": "stream",
     "text": [
      "Training Progress:  70%|███████   | 3517/5000 [01:06<00:15, 93.64it/s, steps=200, epsilon=0.0296, Running Return=-200]"
     ]
    },
    {
     "name": "stdout",
     "output_type": "stream",
     "text": [
      "Q-values at (15, 10): [-6.66651517 -6.66656165 -6.66655817]\n",
      "Preferred action at (15, 10): 0\n",
      "Episode 3500 Action Distribution: [59, 0, 41]\n"
     ]
    },
    {
     "name": "stderr",
     "output_type": "stream",
     "text": [
      "Training Progress:  72%|███████▏  | 3617/5000 [01:07<00:16, 84.33it/s, steps=194, epsilon=0.0268, Running Return=-194]"
     ]
    },
    {
     "name": "stdout",
     "output_type": "stream",
     "text": [
      "Q-values at (15, 10): [-6.66654987 -6.66656375 -6.66656315]\n",
      "Preferred action at (15, 10): 0\n",
      "Episode 3600 Action Distribution: [59, 0, 41]\n"
     ]
    },
    {
     "name": "stderr",
     "output_type": "stream",
     "text": [
      "Training Progress:  74%|███████▍  | 3714/5000 [01:08<00:15, 84.07it/s, steps=223, epsilon=0.0243, Running Return=-223]"
     ]
    },
    {
     "name": "stdout",
     "output_type": "stream",
     "text": [
      "Q-values at (15, 10): [-6.66656009 -6.66656375 -6.66656315]\n",
      "Preferred action at (15, 10): 0\n",
      "Episode 3700 Action Distribution: [26, 29, 45]\n"
     ]
    },
    {
     "name": "stderr",
     "output_type": "stream",
     "text": [
      "Training Progress:  76%|███████▋  | 3817/5000 [01:10<00:12, 92.30it/s, steps=251, epsilon=0.022, Running Return=-251] "
     ]
    },
    {
     "name": "stdout",
     "output_type": "stream",
     "text": [
      "Q-values at (15, 10): [-6.66657682 -6.66658762 -6.66658721]\n",
      "Preferred action at (15, 10): 0\n",
      "Episode 3800 Action Distribution: [61, 0, 39]\n"
     ]
    },
    {
     "name": "stderr",
     "output_type": "stream",
     "text": [
      "Training Progress:  78%|███████▊  | 3919/5000 [01:11<00:11, 95.29it/s, steps=193, epsilon=0.0198, Running Return=-193]"
     ]
    },
    {
     "name": "stdout",
     "output_type": "stream",
     "text": [
      "Q-values at (15, 10): [-6.66658963 -6.66658762 -6.6665926 ]\n",
      "Preferred action at (15, 10): 1\n",
      "Episode 3900 Action Distribution: [61, 0, 39]\n"
     ]
    },
    {
     "name": "stderr",
     "output_type": "stream",
     "text": [
      "Training Progress:  80%|████████  | 4019/5000 [01:12<00:09, 101.46it/s, steps=310, epsilon=0.0179, Running Return=-310]"
     ]
    },
    {
     "name": "stdout",
     "output_type": "stream",
     "text": [
      "Q-values at (15, 10): [-6.66659748 -6.66659118 -6.6665926 ]\n",
      "Preferred action at (15, 10): 1\n",
      "Episode 4000 Action Distribution: [75, 0, 25]\n"
     ]
    },
    {
     "name": "stderr",
     "output_type": "stream",
     "text": [
      "Training Progress:  82%|████████▏ | 4117/5000 [01:13<00:10, 87.36it/s, steps=195, epsilon=0.0163, Running Return=-195] "
     ]
    },
    {
     "name": "stdout",
     "output_type": "stream",
     "text": [
      "Q-values at (15, 10): [-6.66660723 -6.66660742 -6.66660846]\n",
      "Preferred action at (15, 10): 0\n",
      "Episode 4100 Action Distribution: [29, 29, 42]\n"
     ]
    },
    {
     "name": "stderr",
     "output_type": "stream",
     "text": [
      "Training Progress:  84%|████████▍ | 4222/5000 [01:14<00:07, 105.81it/s, steps=169, epsilon=0.0146, Running Return=-169]"
     ]
    },
    {
     "name": "stdout",
     "output_type": "stream",
     "text": [
      "Q-values at (15, 10): [-6.66659983 -6.66660742 -6.66660846]\n",
      "Preferred action at (15, 10): 0\n",
      "Episode 4200 Action Distribution: [28, 28, 44]\n"
     ]
    },
    {
     "name": "stderr",
     "output_type": "stream",
     "text": [
      "Training Progress:  86%|████████▋ | 4319/5000 [01:15<00:07, 88.05it/s, steps=191, epsilon=0.0133, Running Return=-191] "
     ]
    },
    {
     "name": "stdout",
     "output_type": "stream",
     "text": [
      "Q-values at (15, 10): [-6.66662232 -6.66662466 -6.66662521]\n",
      "Preferred action at (15, 10): 0\n",
      "Episode 4300 Action Distribution: [56, 0, 44]\n"
     ]
    },
    {
     "name": "stderr",
     "output_type": "stream",
     "text": [
      "Training Progress:  88%|████████▊ | 4416/5000 [01:16<00:07, 82.31it/s, steps=191, epsilon=0.0121, Running Return=-191]"
     ]
    },
    {
     "name": "stdout",
     "output_type": "stream",
     "text": [
      "Q-values at (15, 10): [-6.66663129 -6.66663391 -6.66663383]\n",
      "Preferred action at (15, 10): 0\n",
      "Episode 4400 Action Distribution: [31, 0, 69]\n"
     ]
    },
    {
     "name": "stderr",
     "output_type": "stream",
     "text": [
      "Training Progress:  90%|█████████ | 4520/5000 [01:17<00:05, 93.66it/s, steps=228, epsilon=0.0109, Running Return=-228]"
     ]
    },
    {
     "name": "stdout",
     "output_type": "stream",
     "text": [
      "Q-values at (15, 10): [-6.66664017 -6.66663926 -6.66663783]\n",
      "Preferred action at (15, 10): 2\n",
      "Episode 4500 Action Distribution: [58, 0, 42]\n"
     ]
    },
    {
     "name": "stderr",
     "output_type": "stream",
     "text": [
      "Training Progress:  92%|█████████▏| 4621/5000 [01:18<00:03, 104.53it/s, steps=152, epsilon=0.01, Running Return=-152]  "
     ]
    },
    {
     "name": "stdout",
     "output_type": "stream",
     "text": [
      "Q-values at (15, 10): [-6.66664224 -6.66664246 -6.66663733]\n",
      "Preferred action at (15, 10): 2\n",
      "Episode 4600 Action Distribution: [58, 0, 42]\n"
     ]
    },
    {
     "name": "stderr",
     "output_type": "stream",
     "text": [
      "Training Progress:  94%|█████████▍| 4723/5000 [01:19<00:02, 99.34it/s, steps=175, epsilon=0.01, Running Return=-175] "
     ]
    },
    {
     "name": "stdout",
     "output_type": "stream",
     "text": [
      "Q-values at (15, 10): [-6.66660252 -6.66664246 -6.66664279]\n",
      "Preferred action at (15, 10): 0\n",
      "Episode 4700 Action Distribution: [27, 0, 73]\n"
     ]
    },
    {
     "name": "stderr",
     "output_type": "stream",
     "text": [
      "Training Progress:  96%|█████████▋| 4821/5000 [01:20<00:01, 111.08it/s, steps=157, epsilon=0.01, Running Return=-157]"
     ]
    },
    {
     "name": "stdout",
     "output_type": "stream",
     "text": [
      "Q-values at (15, 10): [-6.66661975 -6.66664246 -6.66664279]\n",
      "Preferred action at (15, 10): 0\n",
      "Episode 4800 Action Distribution: [55, 0, 45]\n"
     ]
    },
    {
     "name": "stderr",
     "output_type": "stream",
     "text": [
      "Training Progress:  98%|█████████▊| 4921/5000 [01:21<00:00, 109.50it/s, steps=166, epsilon=0.01, Running Return=-166]"
     ]
    },
    {
     "name": "stdout",
     "output_type": "stream",
     "text": [
      "Q-values at (15, 10): [-6.66661005 -6.66664246 -6.66664279]\n",
      "Preferred action at (15, 10): 0\n",
      "Episode 4900 Action Distribution: [24, 0, 76]\n"
     ]
    },
    {
     "name": "stderr",
     "output_type": "stream",
     "text": [
      "Training Progress: 100%|██████████| 5000/5000 [01:22<00:00, 60.62it/s, steps=171, epsilon=0.01, Running Return=-171] \n"
     ]
    }
   ],
   "source": [
    "env = gym.make('MountainCar-v0', max_episode_steps=1000, render_mode=None)\n",
    "env.action_space.seed(42)\n",
    "# Create Q-learning agent (off-policy)\n",
    "agent_q = TD0Agent(\n",
    "    action_dim=3,          \n",
    "    epsilon=1.0,           \n",
    "    alpha=0.3,  # Lower learning rate for more stable updates            \n",
    "    gamma=0.85,  # Keep gamma lowered for short-term improvements  \n",
    "    offpolicy=True,        \n",
    "    n_bins_position=30,    \n",
    "    n_bins_velocity=30     \n",
    ")\n",
    "\n",
    "\n",
    "\n",
    "# Train the Q-learning agent\n",
    "train_agent(agent_q, env, total_episodes=5000, decay_fn=decay_epsilon)\n"
   ]
  },
  {
   "cell_type": "code",
   "execution_count": null,
   "metadata": {},
   "outputs": [],
   "source": []
  },
  {
   "cell_type": "code",
   "execution_count": 13,
   "metadata": {},
   "outputs": [
    {
     "name": "stdout",
     "output_type": "stream",
     "text": [
      "Creating video...\n",
      "Video saved.\n"
     ]
    },
    {
     "data": {
      "text/html": [
       "<video src=\"videos\\agent_q-episode-0.mp4\" controls  >\n",
       "      Your browser does not support the <code>video</code> element.\n",
       "    </video>"
      ],
      "text/plain": [
       "<IPython.core.display.Video object>"
      ]
     },
     "metadata": {},
     "output_type": "display_data"
    }
   ],
   "source": [
    "# Create a separate environment for rendering\n",
    "render_env = gym.make(\"MountainCar-v0\", render_mode=\"rgb_array\")\n",
    "\n",
    "# Generate trajectory\n",
    "trajectory_agent_q = get_trajectory(agent_q, render_env, \"agent_q\")\n"
   ]
  },
  {
   "cell_type": "code",
   "execution_count": null,
   "metadata": {},
   "outputs": [],
   "source": [
    "trajectory_agent_q = get_trajectory(agent_q, env, \"agent_q\")"
   ]
  },
  {
   "cell_type": "code",
   "execution_count": null,
   "metadata": {},
   "outputs": [],
   "source": [
    "# Create SARSA agent (on-policy)\n",
    "agent_sarsa = TD0Agent(\n",
    "    action_dim=3,          \n",
    "    epsilon=1.0,           \n",
    "    alpha=0.1,             \n",
    "    gamma=0.99,            \n",
    "    offpolicy=False,       \n",
    "    n_bins_position=25,    \n",
    "    n_bins_velocity=25     \n",
    ")\n",
    "\n",
    "# Train the SARSA agent\n",
    "train_agent(agent_sarsa, env, total_episodes=5000)\n"
   ]
  },
  {
   "cell_type": "code",
   "execution_count": null,
   "metadata": {},
   "outputs": [],
   "source": [
    "trajectory_sarsa = get_trajectory(agent_sarsa, env, \"agent_sarsa\")"
   ]
  },
  {
   "cell_type": "code",
   "execution_count": null,
   "metadata": {},
   "outputs": [],
   "source": [
    "# Create N-Step SARSA agent\n",
    "agent_nstep_sarsa = NstepSarsaAgent(\n",
    "    action_dim=3,          \n",
    "    epsilon=1.0,           \n",
    "    alpha=0.1,             \n",
    "    gamma=0.99,            \n",
    "    n=3,                   \n",
    "    n_bins_position=20,    \n",
    "    n_bins_velocity=20     \n",
    ")\n",
    "\n",
    "# Train the N-step SARSA agent\n",
    "train_agent(agent_nstep_sarsa, env, total_episodes=5000)\n"
   ]
  },
  {
   "cell_type": "code",
   "execution_count": null,
   "metadata": {},
   "outputs": [],
   "source": [
    "trajectory_nstep_sarsa = get_trajectory(agent_nstep_sarsa, env, \"agent_nstep_sarsa\")"
   ]
  },
  {
   "cell_type": "markdown",
   "metadata": {},
   "source": [
    "## 30 bins for position and 30 bins for velocity"
   ]
  },
  {
   "cell_type": "code",
   "execution_count": null,
   "metadata": {},
   "outputs": [],
   "source": [
    "# Create Q-learning agent (off-policy)\n",
    "agent_q2 = TD0Agent(\n",
    "    action_dim=3,          \n",
    "    epsilon=1.0,           \n",
    "    alpha=0.1,             \n",
    "    gamma=0.99,            \n",
    "    offpolicy=True,        \n",
    "    n_bins_position=30,    \n",
    "    n_bins_velocity=30     \n",
    ")\n",
    "\n",
    "# Train the Q-learning agent\n",
    "train_agent(agent_q2, env, total_episodes=5000)\n"
   ]
  },
  {
   "cell_type": "code",
   "execution_count": null,
   "metadata": {},
   "outputs": [],
   "source": [
    "trajectory_agent_q2 = get_trajectory(agent_q2, env, \"agent_q2\")"
   ]
  },
  {
   "cell_type": "code",
   "execution_count": null,
   "metadata": {},
   "outputs": [],
   "source": [
    "# Create SARSA agent (on-policy)\n",
    "agent_sarsa2 = TD0Agent(\n",
    "    action_dim=3,          \n",
    "    epsilon=1.0,           \n",
    "    alpha=0.1,             \n",
    "    gamma=0.99,            \n",
    "    offpolicy=False,       \n",
    "    n_bins_position=30,    \n",
    "    n_bins_velocity=30     \n",
    ")\n",
    "\n",
    "# Train the SARSA agent\n",
    "train_agent(agent_sarsa, env, total_episodes=5000)\n"
   ]
  },
  {
   "cell_type": "code",
   "execution_count": null,
   "metadata": {},
   "outputs": [],
   "source": [
    "trajectory_sarsa2 = get_trajectory(agent_sarsa2, env, \"agent_sarsa2\")"
   ]
  },
  {
   "cell_type": "code",
   "execution_count": null,
   "metadata": {},
   "outputs": [],
   "source": [
    "# Create N-Step SARSA agent\n",
    "agent_nstep_sarsa2 = NstepSarsaAgent(\n",
    "    action_dim=3,          \n",
    "    epsilon=1.0,           \n",
    "    alpha=0.1,             \n",
    "    gamma=0.99,            \n",
    "    n=3,                   \n",
    "    n_bins_position=30,    \n",
    "    n_bins_velocity=30     \n",
    ")\n",
    "\n",
    "# Train the N-step SARSA agent\n",
    "train_agent(agent_nstep_sarsa, env, total_episodes=5000)\n"
   ]
  },
  {
   "cell_type": "code",
   "execution_count": null,
   "metadata": {},
   "outputs": [],
   "source": [
    "trajectory_nstep_sarsa2 = get_trajectory(agent_nstep_sarsa2, env, \"agent_nstep_sarsa2\")"
   ]
  },
  {
   "cell_type": "markdown",
   "metadata": {},
   "source": [
    "# Chat for evaluation (Ikke prøvd)"
   ]
  },
  {
   "cell_type": "code",
   "execution_count": null,
   "metadata": {},
   "outputs": [],
   "source": [
    "for bins in [10, 20, 30, 40, 50]:  # Test different discretizations\n",
    "    print(f\"\\nTraining with n_bins = {bins}\")\n",
    "\n",
    "    agent_q = TD0Agent(\n",
    "        action_dim=3, epsilon=1.0, alpha=0.1, gamma=0.99,\n",
    "        offpolicy=True,  # Q-learning\n",
    "        n_bins_position=bins, n_bins_velocity=bins\n",
    "    )\n",
    "    train_agent(agent_q, env, total_episodes=10_000)\n",
    "\n",
    "    agent_sarsa = TD0Agent(\n",
    "        action_dim=3, epsilon=1.0, alpha=0.1, gamma=0.99,\n",
    "        offpolicy=False,  # SARSA\n",
    "        n_bins_position=bins, n_bins_velocity=bins\n",
    "    )\n",
    "    train_agent(agent_sarsa, env, total_episodes=10_000)\n"
   ]
  },
  {
   "cell_type": "code",
   "execution_count": null,
   "metadata": {},
   "outputs": [],
   "source": [
    "for agent, label in zip([agent_q, agent_sarsa], [\"Q-learning\", \"SARSA\"]):\n",
    "    print(f\"\\nTesting {label} with bins={bins}\")\n",
    "    trajectory = get_trajectory(agent, env, f\"mountaincar_{label}_bins{bins}\")\n"
   ]
  },
  {
   "cell_type": "code",
   "execution_count": null,
   "metadata": {},
   "outputs": [],
   "source": [
    "# other feature engineering\n",
    "# Tile encoding\n",
    "# Normalizing input\n",
    "# Reward shaping"
   ]
  }
 ],
 "metadata": {
  "kernelspec": {
   "display_name": "INF266",
   "language": "python",
   "name": "python3"
  },
  "language_info": {
   "codemirror_mode": {
    "name": "ipython",
    "version": 3
   },
   "file_extension": ".py",
   "mimetype": "text/x-python",
   "name": "python",
   "nbconvert_exporter": "python",
   "pygments_lexer": "ipython3",
   "version": "3.13.1"
  }
 },
 "nbformat": 4,
 "nbformat_minor": 2
}
